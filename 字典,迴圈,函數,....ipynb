{
 "cells": [
  {
   "cell_type": "code",
   "execution_count": 3,
   "metadata": {},
   "outputs": [
    {
     "name": "stdout",
     "output_type": "stream",
     "text": [
      "請輸入氣溫=>67\n",
      "今天氣溫=67\n",
      "請輸入最大值=>98\n",
      "總和=4851\n",
      "range(1,11,2)的值=1\n",
      "range(1,11,2)的值=3\n",
      "range(1,11,2)的值=5\n",
      "range(1,11,2)的值=7\n",
      "range(1,11,2)的值=9\n",
      "請輸入階層數=>6\n",
      "階層值! =720\n"
     ]
    }
   ],
   "source": [
    "t=int(input(\"請輸入氣溫=>\"))\n",
    "if t<20:\n",
    "    print(\"加件外套!\")\n",
    "print(\"今天氣溫=\"+str(t))\n",
    "    \n",
    "m=int(input(\"請輸入最大值=>\"))\n",
    "s=0\n",
    "for i in range(1,m+1):\n",
    "    s=s+i\n",
    "print(\"總和=\"+str(s))\n",
    "for i in range(1,11,2):\n",
    "    print(\"range(1,11,2)的值=\"+str(i))\n",
    "m=int(input(\"請輸入階層數=>\"))\n",
    "r=1\n",
    "n=1\n",
    "while n<=m:\n",
    "    r=r*n\n",
    "    n=n+1\n",
    "print(\"階層值! =\"+str(r))"
   ]
  },
  {
   "cell_type": "code",
   "execution_count": 4,
   "metadata": {},
   "outputs": [
    {
     "name": "stdout",
     "output_type": "stream",
     "text": [
      "歡迎學習!\n"
     ]
    }
   ],
   "source": [
    "def print_msg():\n",
    "    print(\"歡迎學習!\")\n",
    "def is_valid_num(no):\n",
    "    if no>=0 and no<=200.0:\n",
    "        return True\n",
    "    else:\n",
    "        return False\n",
    "def convert_to_f(c):\n",
    "    f=(9.0*c)/5.0+32.0\n",
    "    return f\n",
    "print_msg()"
   ]
  },
  {
   "cell_type": "markdown",
   "metadata": {},
   "source": [
    "## dict:remove,add,get,setdefault"
   ]
  },
  {
   "cell_type": "code",
   "execution_count": 6,
   "metadata": {},
   "outputs": [
    {
     "name": "stdout",
     "output_type": "stream",
     "text": [
      "white\n",
      "True\n",
      "pink\n",
      "N/A\n",
      "pink\n",
      "N/A\n"
     ]
    }
   ],
   "source": [
    "d={\"cat\":\"white\",\"dog\":\"black\"}\n",
    "print(d[\"cat\"])\n",
    "print(\"cat\" in d)\n",
    "d[\"pig\"]=\"pink\"\n",
    "print(d[\"pig\"])\n",
    "print(d.get(\"monkey\",\"N/A\"))\n",
    "print(d.get(\"pig\",\"N/A\"))\n",
    "del d[\"pig\"]\n",
    "print(d.get(\"pig\",\"N/A\"))\n"
   ]
  },
  {
   "cell_type": "code",
   "execution_count": 7,
   "metadata": {},
   "outputs": [
    {
     "name": "stdout",
     "output_type": "stream",
     "text": [
      "chicken 2\n",
      "dog 4\n",
      "cat 4\n",
      "spider 8\n",
      "動物: chicken 有 2 隻腳\n",
      "動物: dog 有 4 隻腳\n",
      "動物: cat 有 4 隻腳\n",
      "動物: spider 有 8 隻腳\n"
     ]
    }
   ],
   "source": [
    "d={\"chicken\":2,\"dog\":4,\"cat\":4,\"spider\":8}\n",
    "for animal in d:\n",
    "    legs=d[animal]\n",
    "    print(animal,legs)\n",
    "for animal,legs in d.items():\n",
    "    print(\"動物: %s 有 %d 隻腳\" % (animal,legs))"
   ]
  },
  {
   "cell_type": "code",
   "execution_count": 8,
   "metadata": {},
   "outputs": [],
   "source": [
    "d1={x:x*x for x in range(10)}\n",
    "d2={x:x*x for x in range(10) if x%2==1}"
   ]
  },
  {
   "cell_type": "code",
   "execution_count": 9,
   "metadata": {},
   "outputs": [
    {
     "data": {
      "text/plain": [
       "{0: 0, 1: 1, 2: 4, 3: 9, 4: 16, 5: 25, 6: 36, 7: 49, 8: 64, 9: 81}"
      ]
     },
     "execution_count": 9,
     "metadata": {},
     "output_type": "execute_result"
    }
   ],
   "source": [
    "d1"
   ]
  },
  {
   "cell_type": "code",
   "execution_count": 10,
   "metadata": {},
   "outputs": [
    {
     "data": {
      "text/plain": [
       "{1: 1, 3: 9, 5: 25, 7: 49, 9: 81}"
      ]
     },
     "execution_count": 10,
     "metadata": {},
     "output_type": "execute_result"
    }
   ],
   "source": [
    "d2"
   ]
  },
  {
   "cell_type": "code",
   "execution_count": 11,
   "metadata": {},
   "outputs": [
    {
     "name": "stdout",
     "output_type": "stream",
     "text": [
      "True\n",
      "False\n"
     ]
    }
   ],
   "source": [
    "animals={\"cat\",\"dog\",\"pig\"}\n",
    "print(\"cat\" in animals)\n",
    "print(\"fish\" in animals)\n",
    "animals.add(\"fish\")"
   ]
  },
  {
   "cell_type": "code",
   "execution_count": 12,
   "metadata": {},
   "outputs": [
    {
     "name": "stdout",
     "output_type": "stream",
     "text": [
      "True\n",
      "4\n"
     ]
    }
   ],
   "source": [
    "print(\"fish\" in animals)\n",
    "print(len(animals))\n",
    "animals.add(\"cat\")"
   ]
  },
  {
   "cell_type": "code",
   "execution_count": 13,
   "metadata": {},
   "outputs": [
    {
     "name": "stdout",
     "output_type": "stream",
     "text": [
      "4\n",
      "3\n"
     ]
    }
   ],
   "source": [
    "\n",
    "print(len(animals))\n",
    "animals.remove('cat')\n",
    "print(len(animals))"
   ]
  },
  {
   "cell_type": "code",
   "execution_count": 14,
   "metadata": {},
   "outputs": [
    {
     "name": "stdout",
     "output_type": "stream",
     "text": [
      "#0:cat\n",
      "#1:fish\n",
      "#2:pig\n",
      "#3:dog\n"
     ]
    }
   ],
   "source": [
    "animals={\"cat\",\"dog\",\"pig\",\"fish\"}\n",
    "for index,animal in enumerate(animals):\n",
    "    print('#%d:%s' % (index,animal))\n"
   ]
  },
  {
   "cell_type": "code",
   "execution_count": 15,
   "metadata": {},
   "outputs": [],
   "source": [
    "A={1,2,3,4,5}\n",
    "B={4,5,6,7,8}\n",
    "C=A&B\n",
    "C=A.intersection(B)\n",
    "C=A|B\n",
    "C=A.union(B)\n",
    "C=A-B\n",
    "C=A.difference(B)\n",
    "C=A^B\n",
    "C=A.symmetric_difference(B)"
   ]
  },
  {
   "cell_type": "code",
   "execution_count": 16,
   "metadata": {},
   "outputs": [
    {
     "name": "stdout",
     "output_type": "stream",
     "text": [
      "<class 'tuple'>\n",
      "(5, 6, 7, 8)\n",
      "5\n",
      "6\n",
      "8\n",
      "7\n",
      "5 6 7 8 "
     ]
    }
   ],
   "source": [
    "t=(5,6,7,8)\n",
    "print(type(t))\n",
    "print(t)\n",
    "print(t[0])\n",
    "print(t[1])\n",
    "print(t[-1])\n",
    "print(t[-2])\n",
    "for ele in t:\n",
    "    print(ele,end=\" \")"
   ]
  },
  {
   "cell_type": "code",
   "execution_count": 19,
   "metadata": {},
   "outputs": [
    {
     "name": "stdout",
     "output_type": "stream",
     "text": [
      "姓名=陳會安\n",
      "成績=80\n",
      "s1.whoami()=陳會安\n",
      "s1.name=陳會安\n",
      "s1.grade=80\n"
     ]
    }
   ],
   "source": [
    "class Student:\n",
    "    def __init__(self,name,grade):\n",
    "        self.name=name\n",
    "        self.grade=grade\n",
    "    def displayStudent(self):\n",
    "        print(\"姓名=\"+self.name)\n",
    "        print(\"成績=\"+str(self.grade))\n",
    "    def whoami(self):\n",
    "        return self.name\n",
    "s1=Student(\"陳會安\",80)\n",
    "s1.displayStudent()\n",
    "print(\"s1.whoami()=\"+s1.whoami())\n",
    "print(\"s1.name=\"+s1.name)\n",
    "print(\"s1.grade=\"+str(s1.grade))"
   ]
  },
  {
   "cell_type": "code",
   "execution_count": 21,
   "metadata": {},
   "outputs": [
    {
     "name": "stdout",
     "output_type": "stream",
     "text": [
      "多吃水果\n",
      "100 多吃水果 60\n",
      "100&多吃水果&60\n",
      "100&60100&60 "
     ]
    }
   ],
   "source": [
    "print(\"多吃水果\")\n",
    "print(100,\"多吃水果\",60)\n",
    "print(100,\"多吃水果\",60,sep=\"&\")\n",
    "print(100,60,sep=\"&\",end=\"\")"
   ]
  },
  {
   "cell_type": "code",
   "execution_count": 4,
   "metadata": {},
   "outputs": [
    {
     "name": "stdout",
     "output_type": "stream",
     "text": [
      "林小明 的成績為 80\n"
     ]
    }
   ],
   "source": [
    "name=\"林小明\"\n",
    "score=80\n",
    "print(\"%s 的成績為 %d\" % (name,score))"
   ]
  },
  {
   "cell_type": "code",
   "execution_count": 5,
   "metadata": {},
   "outputs": [
    {
     "name": "stdout",
     "output_type": "stream",
     "text": [
      "價格為   23.80\n"
     ]
    }
   ],
   "source": [
    "price=23.8\n",
    "print(\"價格為%8.2f\" % price)"
   ]
  },
  {
   "cell_type": "code",
   "execution_count": 6,
   "metadata": {},
   "outputs": [
    {
     "name": "stdout",
     "output_type": "stream",
     "text": [
      "林小明 的成績為 80\n"
     ]
    }
   ],
   "source": [
    "name=\"林小明\"\n",
    "score=80\n",
    "print(\"{} 的成績為 {}\".format(name,score))"
   ]
  },
  {
   "cell_type": "code",
   "execution_count": 7,
   "metadata": {},
   "outputs": [
    {
     "name": "stdout",
     "output_type": "stream",
     "text": [
      "<class 'int'>\n",
      "<class 'str'>\n",
      "<class 'bool'>\n"
     ]
    }
   ],
   "source": [
    "print(type(56))\n",
    "print(type(\"How are you?\"))\n",
    "print(type(True))"
   ]
  },
  {
   "cell_type": "code",
   "execution_count": 22,
   "metadata": {},
   "outputs": [
    {
     "name": "stdout",
     "output_type": "stream",
     "text": [
      "請輸入購物金額:9890\n",
      "9890元\n"
     ]
    }
   ],
   "source": [
    "money=int(input(\"請輸入購物金額:\"))\n",
    "if(money>=10000):\n",
    "    if(money>=100000):\n",
    "        print(str(money*0.8),end=\"元\\n\")\n",
    "    elif(money>=50000):\n",
    "        print(str(money*0.85),end=\"元\\n\")\n",
    "    elif(money>=30000):\n",
    "        print(str(money*0.9),end=\"元\\n\")\n",
    "    else:\n",
    "        print(str(money*0.95),end=\"元\\n\")\n",
    "else:\n",
    "    print(str(money),end=\"元\\n\")"
   ]
  },
  {
   "cell_type": "code",
   "execution_count": 25,
   "metadata": {},
   "outputs": [
    {
     "name": "stdout",
     "output_type": "stream",
     "text": [
      "香蕉\n",
      "蘋果\n",
      "橘子\n"
     ]
    }
   ],
   "source": [
    "list1=[\"香蕉\",\"蘋果\",\"橘子\"]\n",
    "for s in list1:\n",
    "    print(s,sep=\",\")"
   ]
  },
  {
   "cell_type": "code",
   "execution_count": 26,
   "metadata": {},
   "outputs": [
    {
     "name": "stdout",
     "output_type": "stream",
     "text": [
      "1,2,3,4,5,"
     ]
    }
   ],
   "source": [
    "for i in range(1,11):\n",
    "    if(i==6):\n",
    "        break\n",
    "    print(i,end=\",\")"
   ]
  },
  {
   "cell_type": "code",
   "execution_count": 27,
   "metadata": {},
   "outputs": [
    {
     "name": "stdout",
     "output_type": "stream",
     "text": [
      "1,2,3,4,5,7,8,9,10,"
     ]
    }
   ],
   "source": [
    "\n",
    "for i in range(1,11):\n",
    "    if(i==6):\n",
    "         continue\n",
    "    print(i,end=\",\")      \n"
   ]
  },
  {
   "cell_type": "code",
   "execution_count": 28,
   "metadata": {},
   "outputs": [
    {
     "name": "stdout",
     "output_type": "stream",
     "text": [
      "55\n"
     ]
    }
   ],
   "source": [
    "total=n=0\n",
    "while(n<10):\n",
    "    n+=1\n",
    "    total+=n\n",
    "print(total)"
   ]
  },
  {
   "cell_type": "code",
   "execution_count": 29,
   "metadata": {},
   "outputs": [
    {
     "name": "stdout",
     "output_type": "stream",
     "text": [
      "蘋果\n"
     ]
    }
   ],
   "source": [
    "tuple2=(1,\"香蕉\",True)\n",
    "tuple3=(\"香蕉\",\"蘋果\",\"橘子\")\n",
    "print(tuple3[1])"
   ]
  },
  {
   "cell_type": "code",
   "execution_count": 30,
   "metadata": {},
   "outputs": [
    {
     "data": {
      "text/plain": [
       "5"
      ]
     },
     "execution_count": 30,
     "metadata": {},
     "output_type": "execute_result"
    }
   ],
   "source": [
    "tuple4=(1,2,3,4,5)\n",
    "len(tuple4)"
   ]
  },
  {
   "cell_type": "code",
   "execution_count": 31,
   "metadata": {},
   "outputs": [
    {
     "data": {
      "text/plain": [
       "50"
      ]
     },
     "execution_count": 31,
     "metadata": {},
     "output_type": "execute_result"
    }
   ],
   "source": [
    "dict1={\"香蕉\":20,\"蘋果\":50,\"橘子\":30}\n",
    "n=dict1.setdefault(\"蘋果\")\n",
    "n"
   ]
  },
  {
   "cell_type": "code",
   "execution_count": 16,
   "metadata": {},
   "outputs": [
    {
     "data": {
      "text/plain": [
       "50"
      ]
     },
     "execution_count": 16,
     "metadata": {},
     "output_type": "execute_result"
    }
   ],
   "source": [
    "dict1={\"香蕉\":20,\"蘋果\":50,\"橘子\":30}\n",
    "n=dict1.setdefault(\"蘋果\",100)\n",
    "n"
   ]
  },
  {
   "cell_type": "code",
   "execution_count": 17,
   "metadata": {},
   "outputs": [
    {
     "data": {
      "text/plain": [
       "{'香蕉': 20, '蘋果': 50, '橘子': 30, '鳳梨': None}"
      ]
     },
     "execution_count": 17,
     "metadata": {},
     "output_type": "execute_result"
    }
   ],
   "source": [
    "dict1={\"香蕉\":20,\"蘋果\":50,\"橘子\":30}\n",
    "n=dict1.setdefault(\"鳳梨\")\n",
    "dict1"
   ]
  },
  {
   "cell_type": "code",
   "execution_count": 32,
   "metadata": {},
   "outputs": [
    {
     "name": "stdout",
     "output_type": "stream",
     "text": [
      "不定數目範例:\n",
      "2個參數:calsum(4,5)=9\n",
      "3個參數:calsum(4,5,12)=21\n",
      "4個參數:calsum(4,5,12,8)=29\n"
     ]
    }
   ],
   "source": [
    "def calsum(*params):\n",
    "    total=0\n",
    "    for param in params:\n",
    "        total+=param\n",
    "    return total\n",
    "print(\"不定數目範例:\")\n",
    "print(\"2個參數:calsum(4,5)=%d\" % calsum(4,5))\n",
    "print(\"3個參數:calsum(4,5,12)=%d\" % calsum(4,5,12))\n",
    "print(\"4個參數:calsum(4,5,12,8)=%d\" % calsum(4,5,12,8))"
   ]
  },
  {
   "cell_type": "code",
   "execution_count": 33,
   "metadata": {},
   "outputs": [
    {
     "name": "stdout",
     "output_type": "stream",
     "text": [
      "First argument : Hello\n",
      "Next argument through *argv : Welcome\n",
      "Next argument through *argv : to\n",
      "Next argument through *argv : GeeksforGeeks\n"
     ]
    }
   ],
   "source": [
    "def myFun(arg1, *argv): \n",
    "    print (\"First argument :\", arg1) \n",
    "    for arg in argv: \n",
    "        print(\"Next argument through *argv :\", arg) \n",
    "myFun('Hello', 'Welcome', 'to', 'GeeksforGeeks') "
   ]
  },
  {
   "cell_type": "code",
   "execution_count": 34,
   "metadata": {},
   "outputs": [
    {
     "name": "stdout",
     "output_type": "stream",
     "text": [
      "first == Geeks\n",
      "mid == for\n",
      "last == Geeks\n"
     ]
    }
   ],
   "source": [
    "def myFun(**kwargs):  \n",
    "    for key, value in kwargs.items(): \n",
    "        print (\"%s == %s\" %(key, value)) \n",
    "  \n",
    "# Driver code \n",
    "myFun(first ='Geeks', mid ='for', last='Geeks')  "
   ]
  },
  {
   "cell_type": "code",
   "execution_count": 35,
   "metadata": {},
   "outputs": [
    {
     "name": "stdout",
     "output_type": "stream",
     "text": [
      "1 20\n",
      "10 20\n"
     ]
    }
   ],
   "source": [
    "def scope():\n",
    "    var1=1\n",
    "    print(var1,var2)\n",
    "var1=10\n",
    "var2=20\n",
    "scope()\n",
    "print(var1,var2)"
   ]
  },
  {
   "cell_type": "code",
   "execution_count": 36,
   "metadata": {},
   "outputs": [
    {
     "name": "stdout",
     "output_type": "stream",
     "text": [
      "1 2\n",
      "1 20\n"
     ]
    }
   ],
   "source": [
    "def scope():\n",
    "    global var1\n",
    "    var1=1\n",
    "    var2=2\n",
    "    print(var1,var2)\n",
    "var1=10\n",
    "var2=20\n",
    "scope()\n",
    "print(var1,var2)"
   ]
  },
  {
   "cell_type": "code",
   "execution_count": 21,
   "metadata": {},
   "outputs": [
    {
     "name": "stdout",
     "output_type": "stream",
     "text": [
      "請輸入正整數(-1結束):5\n",
      "請輸入正整數(-1結束):4\n",
      "請輸入正整數(-1結束):-1\n",
      "共輸入2個數\n",
      "最大數為:5\n",
      "最小數為:4\n",
      "輸入數的總和為:9\n",
      "輸入數由大到小排序為:[5, 4]\n"
     ]
    }
   ],
   "source": [
    "innsum=0\n",
    "list1=[]\n",
    "while(innsum!=-1):\n",
    "    innsum=int(input(\"請輸入正整數(-1結束):\"))\n",
    "    list1.append(innsum)\n",
    "list1.pop()\n",
    "print(\"共輸入%d個數\" % len(list1))\n",
    "print(\"最大數為:%d\" % max(list1))\n",
    "print(\"最小數為:%d\" % min(list1))\n",
    "print(\"輸入數的總和為:%d\" % sum(list1))\n",
    "print(\"輸入數由大到小排序為:{}\".format (sorted(list1,reverse=True)))"
   ]
  },
  {
   "cell_type": "code",
   "execution_count": 37,
   "metadata": {},
   "outputs": [
    {
     "data": {
      "text/plain": [
       "4"
      ]
     },
     "execution_count": 37,
     "metadata": {},
     "output_type": "execute_result"
    }
   ],
   "source": [
    "pow(3,4,7)"
   ]
  },
  {
   "cell_type": "code",
   "execution_count": 2,
   "metadata": {},
   "outputs": [
    {
     "ename": "NameError",
     "evalue": "name 'app_train' is not defined",
     "output_type": "error",
     "traceback": [
      "\u001b[1;31m---------------------------------------------------------------------------\u001b[0m",
      "\u001b[1;31mNameError\u001b[0m                                 Traceback (most recent call last)",
      "\u001b[1;32m<ipython-input-2-f32f738320c9>\u001b[0m in \u001b[0;36m<module>\u001b[1;34m\u001b[0m\n\u001b[0;32m      3\u001b[0m \u001b[0mstart_time\u001b[0m \u001b[1;33m=\u001b[0m \u001b[0mtime\u001b[0m\u001b[1;33m.\u001b[0m\u001b[0mtime\u001b[0m\u001b[1;33m(\u001b[0m\u001b[1;33m)\u001b[0m\u001b[1;33m\u001b[0m\u001b[1;33m\u001b[0m\u001b[0m\n\u001b[0;32m      4\u001b[0m \u001b[0mmode_dict\u001b[0m \u001b[1;33m=\u001b[0m \u001b[0mdefaultdict\u001b[0m\u001b[1;33m(\u001b[0m\u001b[1;32mlambda\u001b[0m\u001b[1;33m:\u001b[0m\u001b[1;36m0\u001b[0m\u001b[1;33m)\u001b[0m\u001b[1;33m\u001b[0m\u001b[1;33m\u001b[0m\u001b[0m\n\u001b[1;32m----> 5\u001b[1;33m \u001b[1;32mfor\u001b[0m \u001b[0mvalue\u001b[0m \u001b[1;32min\u001b[0m \u001b[0mapp_train\u001b[0m\u001b[1;33m[\u001b[0m\u001b[1;33m~\u001b[0m\u001b[0mapp_train\u001b[0m\u001b[1;33m[\u001b[0m\u001b[1;34m'AMT_ANNUITY'\u001b[0m\u001b[1;33m]\u001b[0m\u001b[1;33m.\u001b[0m\u001b[0misnull\u001b[0m\u001b[1;33m(\u001b[0m\u001b[1;33m)\u001b[0m\u001b[1;33m]\u001b[0m\u001b[1;33m[\u001b[0m\u001b[1;34m'AMT_ANNUITY'\u001b[0m\u001b[1;33m]\u001b[0m\u001b[1;33m:\u001b[0m\u001b[1;33m\u001b[0m\u001b[1;33m\u001b[0m\u001b[0m\n\u001b[0m\u001b[0;32m      6\u001b[0m     \u001b[0mmode_dict\u001b[0m\u001b[1;33m[\u001b[0m\u001b[0mvalue\u001b[0m\u001b[1;33m]\u001b[0m \u001b[1;33m+=\u001b[0m \u001b[1;36m1\u001b[0m\u001b[1;33m\u001b[0m\u001b[1;33m\u001b[0m\u001b[0m\n\u001b[0;32m      7\u001b[0m \u001b[0mmode_get\u001b[0m \u001b[1;33m=\u001b[0m \u001b[0msorted\u001b[0m\u001b[1;33m(\u001b[0m\u001b[0mmode_dict\u001b[0m\u001b[1;33m.\u001b[0m\u001b[0mitems\u001b[0m\u001b[1;33m(\u001b[0m\u001b[1;33m)\u001b[0m\u001b[1;33m,\u001b[0m \u001b[0mkey\u001b[0m\u001b[1;33m=\u001b[0m\u001b[1;32mlambda\u001b[0m \u001b[0mkv\u001b[0m\u001b[1;33m:\u001b[0m \u001b[0mkv\u001b[0m\u001b[1;33m[\u001b[0m\u001b[1;36m1\u001b[0m\u001b[1;33m]\u001b[0m\u001b[1;33m,\u001b[0m \u001b[0mreverse\u001b[0m\u001b[1;33m=\u001b[0m\u001b[1;32mTrue\u001b[0m\u001b[1;33m)\u001b[0m\u001b[1;33m\u001b[0m\u001b[1;33m\u001b[0m\u001b[0m\n",
      "\u001b[1;31mNameError\u001b[0m: name 'app_train' is not defined"
     ]
    }
   ],
   "source": [
    "from collections import defaultdict\n",
    "import time\n",
    "start_time = time.time()\n",
    "mode_dict = defaultdict(lambda:0)\n",
    "for value in app_train[~app_train['AMT_ANNUITY'].isnull()]['AMT_ANNUITY']:\n",
    "    mode_dict[value] += 1    \n",
    "mode_get = sorted(mode_dict.items(), key=lambda kv: kv[1], reverse=True)\n",
    "print(mode_get[0])\n",
    "print(\"Elapsed time: %.3f secs\" % (time.time() - start_time))"
   ]
  },
  {
   "cell_type": "code",
   "execution_count": 11,
   "metadata": {},
   "outputs": [
    {
     "data": {
      "text/html": [
       "<div>\n",
       "<style scoped>\n",
       "    .dataframe tbody tr th:only-of-type {\n",
       "        vertical-align: middle;\n",
       "    }\n",
       "\n",
       "    .dataframe tbody tr th {\n",
       "        vertical-align: top;\n",
       "    }\n",
       "\n",
       "    .dataframe thead th {\n",
       "        text-align: right;\n",
       "    }\n",
       "</style>\n",
       "<table border=\"1\" class=\"dataframe\">\n",
       "  <thead>\n",
       "    <tr style=\"text-align: right;\">\n",
       "      <th></th>\n",
       "      <th>score</th>\n",
       "      <th>target</th>\n",
       "    </tr>\n",
       "  </thead>\n",
       "  <tbody>\n",
       "    <tr>\n",
       "      <th>0</th>\n",
       "      <td>10</td>\n",
       "      <td>parry</td>\n",
       "    </tr>\n",
       "    <tr>\n",
       "      <th>1</th>\n",
       "      <td>50</td>\n",
       "      <td>parry2</td>\n",
       "    </tr>\n",
       "  </tbody>\n",
       "</table>\n",
       "</div>"
      ],
      "text/plain": [
       "   score  target\n",
       "0     10   parry\n",
       "1     50  parry2"
      ]
     },
     "execution_count": 11,
     "metadata": {},
     "output_type": "execute_result"
    }
   ],
   "source": [
    "import pandas as pd\n",
    "A=pd.DataFrame([{\"target\":\"parry\",\"score\":10},{\"target\":\"parry2\",\"score\":50}])\n",
    "A"
   ]
  },
  {
   "cell_type": "code",
   "execution_count": 12,
   "metadata": {},
   "outputs": [
    {
     "name": "stdout",
     "output_type": "stream",
     "text": [
      "score        10\n",
      "target    parry\n",
      "Name: 0, dtype: object\n",
      "score         50\n",
      "target    parry2\n",
      "Name: 1, dtype: object\n"
     ]
    }
   ],
   "source": [
    "by_rating = defaultdict(list)\n",
    "for _, row in A.iterrows():\n",
    "    by_rating[row.target].append(row.to_dict())\n",
    "    print(row)"
   ]
  },
  {
   "cell_type": "code",
   "execution_count": 13,
   "metadata": {},
   "outputs": [
    {
     "data": {
      "text/plain": [
       "defaultdict(list,\n",
       "            {'parry': [{'score': 10, 'target': 'parry'}],\n",
       "             'parry2': [{'score': 50, 'target': 'parry2'}]})"
      ]
     },
     "execution_count": 13,
     "metadata": {},
     "output_type": "execute_result"
    }
   ],
   "source": [
    "by_rating"
   ]
  },
  {
   "cell_type": "code",
   "execution_count": null,
   "metadata": {},
   "outputs": [],
   "source": []
  }
 ],
 "metadata": {
  "kernelspec": {
   "display_name": "Python 3",
   "language": "python",
   "name": "python3"
  },
  "language_info": {
   "codemirror_mode": {
    "name": "ipython",
    "version": 3
   },
   "file_extension": ".py",
   "mimetype": "text/x-python",
   "name": "python",
   "nbconvert_exporter": "python",
   "pygments_lexer": "ipython3",
   "version": "3.7.3"
  }
 },
 "nbformat": 4,
 "nbformat_minor": 2
}
